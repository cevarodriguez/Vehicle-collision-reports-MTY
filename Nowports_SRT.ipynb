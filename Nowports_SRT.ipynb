{
  "nbformat": 4,
  "nbformat_minor": 0,
  "metadata": {
    "colab": {
      "name": "Nowports_SRT.ipynb",
      "provenance": [],
      "collapsed_sections": [],
      "toc_visible": true
    },
    "kernelspec": {
      "name": "python3",
      "display_name": "Python 3"
    },
    "language_info": {
      "name": "python"
    }
  },
  "cells": [
    {
      "cell_type": "markdown",
      "source": [
        "#Necessary imports"
      ],
      "metadata": {
        "id": "tstT-KTlpCWz"
      }
    },
    {
      "cell_type": "code",
      "source": [
        "from google.colab import drive\n",
        "drive.mount('/content/drive')"
      ],
      "metadata": {
        "colab": {
          "base_uri": "https://localhost:8080/"
        },
        "id": "gNT9Wojwpg--",
        "outputId": "00531f80-cd6a-4a0f-b0c8-b840c2140b4f"
      },
      "execution_count": 1,
      "outputs": [
        {
          "output_type": "stream",
          "name": "stdout",
          "text": [
            "Drive already mounted at /content/drive; to attempt to forcibly remount, call drive.mount(\"/content/drive\", force_remount=True).\n"
          ]
        }
      ]
    },
    {
      "cell_type": "code",
      "source": [
        "import pandas as pd\n",
        "pd.set_option('display.max_rows', 60000)\n",
        "import numpy as np\n",
        "import matplotlib.pyplot as plt\n",
        "import os"
      ],
      "metadata": {
        "id": "zkBbGhHbptry"
      },
      "execution_count": 2,
      "outputs": []
    },
    {
      "cell_type": "markdown",
      "source": [
        "#Read dataset and turn it into a dataframe"
      ],
      "metadata": {
        "id": "CxwHWve8pJ6g"
      }
    },
    {
      "cell_type": "code",
      "source": [
        "#Change dir\n",
        "os.chdir('/content/drive/MyDrive/Nowports')"
      ],
      "metadata": {
        "id": "XFx6j9qspQA_"
      },
      "execution_count": 3,
      "outputs": []
    },
    {
      "cell_type": "markdown",
      "source": [
        "##Create DataFrame"
      ],
      "metadata": {
        "id": "LDe0x37XtYvw"
      }
    },
    {
      "cell_type": "markdown",
      "source": [
        "Here we can see the structure of the dataset"
      ],
      "metadata": {
        "id": "GQPDMcGlwN2I"
      }
    },
    {
      "cell_type": "code",
      "source": [
        "df = pd.read_csv('MTY.csv')\n",
        "df.head()"
      ],
      "metadata": {
        "colab": {
          "base_uri": "https://localhost:8080/",
          "height": 542
        },
        "id": "BtsRDE6Bs64h",
        "outputId": "fc48a3b1-8b61-4c69-95ac-93f52a7a1349"
      },
      "execution_count": 4,
      "outputs": [
        {
          "output_type": "stream",
          "name": "stderr",
          "text": [
            "/usr/local/lib/python3.7/dist-packages/IPython/core/interactiveshell.py:2882: DtypeWarning: Columns (9,12,13,16,21,28,32,33,34,35,36,37,40,41,42,43,44,45,46,49) have mixed types.Specify dtype option on import or set low_memory=False.\n",
            "  exec(code_obj, self.user_global_ns, self.user_ns)\n"
          ]
        },
        {
          "output_type": "execute_result",
          "data": {
            "text/plain": [
              "   Column           Calle                      Causa     Ciudad  \\\n",
              "0       0     CAMINO REAL  NO RESPETAR SEÑALAMIENTOS  Monterrey   \n",
              "1       1  BERNARDO REYES                      Otros  Monterrey   \n",
              "2       2  BERNARDO REYES                      Otros  Monterrey   \n",
              "3       3         LINCOLN             INVADIR CARRIL  Monterrey   \n",
              "4       4          MADERO       NO GUARDAR DISTANCIA  Monterrey   \n",
              "\n",
              "                 Cruce                Fecha                 Hora     ID  \\\n",
              "0       SANTOS  PALOMO  2016-05-01 00:00:00  1899-12-30 00:00:00   MTY1   \n",
              "1      FIDEL VELAZQUEZ  2016-05-01 00:00:00  1899-12-30 00:00:00  MTY10   \n",
              "2              REFORMA  2016-05-01 00:00:00  1899-12-30 00:00:00  MTY11   \n",
              "3      CUMBRES DEL SOL  2016-05-01 00:00:00  1899-12-30 00:00:00  MTY12   \n",
              "4  PABLO A DE LA GARZA  2016-05-01 00:00:00  1899-12-30 00:00:00  MTY13   \n",
              "\n",
              "     Latitud Lesionados  ... V2_Uso de Cinturón V3_Arresto V3_Dictamen  \\\n",
              "0   25.77443         No  ...                NaN        NaN         NaN   \n",
              "1  25.724161         No  ...                NaN        NaN         NaN   \n",
              "2  25.685874         No  ...                NaN        NaN         NaN   \n",
              "3  25.797401         No  ...                NaN        NaN         NaN   \n",
              "4  25.682219         No  ...                NaN        NaN         NaN   \n",
              "\n",
              "  V3_Edad  V3_Estatus Licencia  V3_Género V3_No. De Fallecidos  \\\n",
              "0     NaN                  NaN        NaN                  NaN   \n",
              "1     NaN                  NaN        NaN                  NaN   \n",
              "2     NaN                  NaN        NaN                  NaN   \n",
              "3     NaN                  NaN        NaN                  NaN   \n",
              "4     NaN                  NaN        NaN                  NaN   \n",
              "\n",
              "  V3_No. De Lesionados V3_Tipo de Vehículo V3_Uso de Cinturón  \n",
              "0                  NaN                 NaN                NaN  \n",
              "1                  NaN                 NaN                NaN  \n",
              "2                  NaN                 NaN                NaN  \n",
              "3                  NaN                 NaN                NaN  \n",
              "4                  NaN                 NaN                NaN  \n",
              "\n",
              "[5 rows x 50 columns]"
            ],
            "text/html": [
              "\n",
              "  <div id=\"df-659c4d72-be19-4464-a177-4fb9409aa764\">\n",
              "    <div class=\"colab-df-container\">\n",
              "      <div>\n",
              "<style scoped>\n",
              "    .dataframe tbody tr th:only-of-type {\n",
              "        vertical-align: middle;\n",
              "    }\n",
              "\n",
              "    .dataframe tbody tr th {\n",
              "        vertical-align: top;\n",
              "    }\n",
              "\n",
              "    .dataframe thead th {\n",
              "        text-align: right;\n",
              "    }\n",
              "</style>\n",
              "<table border=\"1\" class=\"dataframe\">\n",
              "  <thead>\n",
              "    <tr style=\"text-align: right;\">\n",
              "      <th></th>\n",
              "      <th>Column</th>\n",
              "      <th>Calle</th>\n",
              "      <th>Causa</th>\n",
              "      <th>Ciudad</th>\n",
              "      <th>Cruce</th>\n",
              "      <th>Fecha</th>\n",
              "      <th>Hora</th>\n",
              "      <th>ID</th>\n",
              "      <th>Latitud</th>\n",
              "      <th>Lesionados</th>\n",
              "      <th>...</th>\n",
              "      <th>V2_Uso de Cinturón</th>\n",
              "      <th>V3_Arresto</th>\n",
              "      <th>V3_Dictamen</th>\n",
              "      <th>V3_Edad</th>\n",
              "      <th>V3_Estatus Licencia</th>\n",
              "      <th>V3_Género</th>\n",
              "      <th>V3_No. De Fallecidos</th>\n",
              "      <th>V3_No. De Lesionados</th>\n",
              "      <th>V3_Tipo de Vehículo</th>\n",
              "      <th>V3_Uso de Cinturón</th>\n",
              "    </tr>\n",
              "  </thead>\n",
              "  <tbody>\n",
              "    <tr>\n",
              "      <th>0</th>\n",
              "      <td>0</td>\n",
              "      <td>CAMINO REAL</td>\n",
              "      <td>NO RESPETAR SEÑALAMIENTOS</td>\n",
              "      <td>Monterrey</td>\n",
              "      <td>SANTOS  PALOMO</td>\n",
              "      <td>2016-05-01 00:00:00</td>\n",
              "      <td>1899-12-30 00:00:00</td>\n",
              "      <td>MTY1</td>\n",
              "      <td>25.77443</td>\n",
              "      <td>No</td>\n",
              "      <td>...</td>\n",
              "      <td>NaN</td>\n",
              "      <td>NaN</td>\n",
              "      <td>NaN</td>\n",
              "      <td>NaN</td>\n",
              "      <td>NaN</td>\n",
              "      <td>NaN</td>\n",
              "      <td>NaN</td>\n",
              "      <td>NaN</td>\n",
              "      <td>NaN</td>\n",
              "      <td>NaN</td>\n",
              "    </tr>\n",
              "    <tr>\n",
              "      <th>1</th>\n",
              "      <td>1</td>\n",
              "      <td>BERNARDO REYES</td>\n",
              "      <td>Otros</td>\n",
              "      <td>Monterrey</td>\n",
              "      <td>FIDEL VELAZQUEZ</td>\n",
              "      <td>2016-05-01 00:00:00</td>\n",
              "      <td>1899-12-30 00:00:00</td>\n",
              "      <td>MTY10</td>\n",
              "      <td>25.724161</td>\n",
              "      <td>No</td>\n",
              "      <td>...</td>\n",
              "      <td>NaN</td>\n",
              "      <td>NaN</td>\n",
              "      <td>NaN</td>\n",
              "      <td>NaN</td>\n",
              "      <td>NaN</td>\n",
              "      <td>NaN</td>\n",
              "      <td>NaN</td>\n",
              "      <td>NaN</td>\n",
              "      <td>NaN</td>\n",
              "      <td>NaN</td>\n",
              "    </tr>\n",
              "    <tr>\n",
              "      <th>2</th>\n",
              "      <td>2</td>\n",
              "      <td>BERNARDO REYES</td>\n",
              "      <td>Otros</td>\n",
              "      <td>Monterrey</td>\n",
              "      <td>REFORMA</td>\n",
              "      <td>2016-05-01 00:00:00</td>\n",
              "      <td>1899-12-30 00:00:00</td>\n",
              "      <td>MTY11</td>\n",
              "      <td>25.685874</td>\n",
              "      <td>No</td>\n",
              "      <td>...</td>\n",
              "      <td>NaN</td>\n",
              "      <td>NaN</td>\n",
              "      <td>NaN</td>\n",
              "      <td>NaN</td>\n",
              "      <td>NaN</td>\n",
              "      <td>NaN</td>\n",
              "      <td>NaN</td>\n",
              "      <td>NaN</td>\n",
              "      <td>NaN</td>\n",
              "      <td>NaN</td>\n",
              "    </tr>\n",
              "    <tr>\n",
              "      <th>3</th>\n",
              "      <td>3</td>\n",
              "      <td>LINCOLN</td>\n",
              "      <td>INVADIR CARRIL</td>\n",
              "      <td>Monterrey</td>\n",
              "      <td>CUMBRES DEL SOL</td>\n",
              "      <td>2016-05-01 00:00:00</td>\n",
              "      <td>1899-12-30 00:00:00</td>\n",
              "      <td>MTY12</td>\n",
              "      <td>25.797401</td>\n",
              "      <td>No</td>\n",
              "      <td>...</td>\n",
              "      <td>NaN</td>\n",
              "      <td>NaN</td>\n",
              "      <td>NaN</td>\n",
              "      <td>NaN</td>\n",
              "      <td>NaN</td>\n",
              "      <td>NaN</td>\n",
              "      <td>NaN</td>\n",
              "      <td>NaN</td>\n",
              "      <td>NaN</td>\n",
              "      <td>NaN</td>\n",
              "    </tr>\n",
              "    <tr>\n",
              "      <th>4</th>\n",
              "      <td>4</td>\n",
              "      <td>MADERO</td>\n",
              "      <td>NO GUARDAR DISTANCIA</td>\n",
              "      <td>Monterrey</td>\n",
              "      <td>PABLO A DE LA GARZA</td>\n",
              "      <td>2016-05-01 00:00:00</td>\n",
              "      <td>1899-12-30 00:00:00</td>\n",
              "      <td>MTY13</td>\n",
              "      <td>25.682219</td>\n",
              "      <td>No</td>\n",
              "      <td>...</td>\n",
              "      <td>NaN</td>\n",
              "      <td>NaN</td>\n",
              "      <td>NaN</td>\n",
              "      <td>NaN</td>\n",
              "      <td>NaN</td>\n",
              "      <td>NaN</td>\n",
              "      <td>NaN</td>\n",
              "      <td>NaN</td>\n",
              "      <td>NaN</td>\n",
              "      <td>NaN</td>\n",
              "    </tr>\n",
              "  </tbody>\n",
              "</table>\n",
              "<p>5 rows × 50 columns</p>\n",
              "</div>\n",
              "      <button class=\"colab-df-convert\" onclick=\"convertToInteractive('df-659c4d72-be19-4464-a177-4fb9409aa764')\"\n",
              "              title=\"Convert this dataframe to an interactive table.\"\n",
              "              style=\"display:none;\">\n",
              "        \n",
              "  <svg xmlns=\"http://www.w3.org/2000/svg\" height=\"24px\"viewBox=\"0 0 24 24\"\n",
              "       width=\"24px\">\n",
              "    <path d=\"M0 0h24v24H0V0z\" fill=\"none\"/>\n",
              "    <path d=\"M18.56 5.44l.94 2.06.94-2.06 2.06-.94-2.06-.94-.94-2.06-.94 2.06-2.06.94zm-11 1L8.5 8.5l.94-2.06 2.06-.94-2.06-.94L8.5 2.5l-.94 2.06-2.06.94zm10 10l.94 2.06.94-2.06 2.06-.94-2.06-.94-.94-2.06-.94 2.06-2.06.94z\"/><path d=\"M17.41 7.96l-1.37-1.37c-.4-.4-.92-.59-1.43-.59-.52 0-1.04.2-1.43.59L10.3 9.45l-7.72 7.72c-.78.78-.78 2.05 0 2.83L4 21.41c.39.39.9.59 1.41.59.51 0 1.02-.2 1.41-.59l7.78-7.78 2.81-2.81c.8-.78.8-2.07 0-2.86zM5.41 20L4 18.59l7.72-7.72 1.47 1.35L5.41 20z\"/>\n",
              "  </svg>\n",
              "      </button>\n",
              "      \n",
              "  <style>\n",
              "    .colab-df-container {\n",
              "      display:flex;\n",
              "      flex-wrap:wrap;\n",
              "      gap: 12px;\n",
              "    }\n",
              "\n",
              "    .colab-df-convert {\n",
              "      background-color: #E8F0FE;\n",
              "      border: none;\n",
              "      border-radius: 50%;\n",
              "      cursor: pointer;\n",
              "      display: none;\n",
              "      fill: #1967D2;\n",
              "      height: 32px;\n",
              "      padding: 0 0 0 0;\n",
              "      width: 32px;\n",
              "    }\n",
              "\n",
              "    .colab-df-convert:hover {\n",
              "      background-color: #E2EBFA;\n",
              "      box-shadow: 0px 1px 2px rgba(60, 64, 67, 0.3), 0px 1px 3px 1px rgba(60, 64, 67, 0.15);\n",
              "      fill: #174EA6;\n",
              "    }\n",
              "\n",
              "    [theme=dark] .colab-df-convert {\n",
              "      background-color: #3B4455;\n",
              "      fill: #D2E3FC;\n",
              "    }\n",
              "\n",
              "    [theme=dark] .colab-df-convert:hover {\n",
              "      background-color: #434B5C;\n",
              "      box-shadow: 0px 1px 3px 1px rgba(0, 0, 0, 0.15);\n",
              "      filter: drop-shadow(0px 1px 2px rgba(0, 0, 0, 0.3));\n",
              "      fill: #FFFFFF;\n",
              "    }\n",
              "  </style>\n",
              "\n",
              "      <script>\n",
              "        const buttonEl =\n",
              "          document.querySelector('#df-659c4d72-be19-4464-a177-4fb9409aa764 button.colab-df-convert');\n",
              "        buttonEl.style.display =\n",
              "          google.colab.kernel.accessAllowed ? 'block' : 'none';\n",
              "\n",
              "        async function convertToInteractive(key) {\n",
              "          const element = document.querySelector('#df-659c4d72-be19-4464-a177-4fb9409aa764');\n",
              "          const dataTable =\n",
              "            await google.colab.kernel.invokeFunction('convertToInteractive',\n",
              "                                                     [key], {});\n",
              "          if (!dataTable) return;\n",
              "\n",
              "          const docLinkHtml = 'Like what you see? Visit the ' +\n",
              "            '<a target=\"_blank\" href=https://colab.research.google.com/notebooks/data_table.ipynb>data table notebook</a>'\n",
              "            + ' to learn more about interactive tables.';\n",
              "          element.innerHTML = '';\n",
              "          dataTable['output_type'] = 'display_data';\n",
              "          await google.colab.output.renderOutput(dataTable, element);\n",
              "          const docLink = document.createElement('div');\n",
              "          docLink.innerHTML = docLinkHtml;\n",
              "          element.appendChild(docLink);\n",
              "        }\n",
              "      </script>\n",
              "    </div>\n",
              "  </div>\n",
              "  "
            ]
          },
          "metadata": {},
          "execution_count": 4
        }
      ]
    },
    {
      "cell_type": "markdown",
      "source": [
        "## Exploratory analysis"
      ],
      "metadata": {
        "id": "tgZScR4CEhRN"
      }
    },
    {
      "cell_type": "markdown",
      "source": [
        "We'll be performing an exploratory analysis on the dataset to check for any relevant problems"
      ],
      "metadata": {
        "id": "duxpv4HH_gBM"
      }
    },
    {
      "cell_type": "code",
      "source": [
        "df.info()"
      ],
      "metadata": {
        "colab": {
          "base_uri": "https://localhost:8080/"
        },
        "id": "u12r68V_wexN",
        "outputId": "54d16a19-684b-458c-e705-682ce83c1bab"
      },
      "execution_count": 5,
      "outputs": [
        {
          "output_type": "stream",
          "name": "stdout",
          "text": [
            "<class 'pandas.core.frame.DataFrame'>\n",
            "RangeIndex: 55013 entries, 0 to 55012\n",
            "Data columns (total 50 columns):\n",
            " #   Column                       Non-Null Count  Dtype  \n",
            "---  ------                       --------------  -----  \n",
            " 0   Column                       55013 non-null  int64  \n",
            " 1   Calle                        54998 non-null  object \n",
            " 2   Causa                        48986 non-null  object \n",
            " 3   Ciudad                       55009 non-null  object \n",
            " 4   Cruce                        53444 non-null  object \n",
            " 5   Fecha                        55010 non-null  object \n",
            " 6   Hora                         51656 non-null  object \n",
            " 7   ID                           55009 non-null  object \n",
            " 8   Latitud                      25551 non-null  object \n",
            " 9   Lesionados                   27935 non-null  object \n",
            " 10  Longitud                     34515 non-null  object \n",
            " 11  Mes                          54908 non-null  object \n",
            " 12  Muertos                      22379 non-null  object \n",
            " 13  No. De Infracción            2812 non-null   object \n",
            " 14  Número  total de lesionados  28007 non-null  float64\n",
            " 15  Número total de muertos      21491 non-null  float64\n",
            " 16  Por alcohol                  19271 non-null  object \n",
            " 17  Sentido                      52590 non-null  object \n",
            " 18  Situación climática          47922 non-null  object \n",
            " 19  Situación del Pavimento      47989 non-null  object \n",
            " 20  Tipo de incidente            55013 non-null  object \n",
            " 21  Tipo de involucrado          28554 non-null  object \n",
            " 22  Tipo de vía                  42282 non-null  object \n",
            " 23  V1_Arresto                   39833 non-null  object \n",
            " 24  V1_Dictamen                  11808 non-null  object \n",
            " 25  V1_Edad                      51367 non-null  object \n",
            " 26  V1_Estatus Licencia          48795 non-null  object \n",
            " 27  V1_Género                    50921 non-null  object \n",
            " 28  V1_No. De Fallecidos         22220 non-null  object \n",
            " 29  V1_No. De Lesionados         22314 non-null  float64\n",
            " 30  V1_Tipo de Vehículo          54923 non-null  object \n",
            " 31  V1_Uso de Cinturón           36166 non-null  object \n",
            " 32  V2_Arresto                   13969 non-null  object \n",
            " 33  V2_Dictamen                  376 non-null    object \n",
            " 34  V2_Edad                      16311 non-null  object \n",
            " 35  V2_Estatus Licencia          14972 non-null  object \n",
            " 36  V2_Género                    17053 non-null  object \n",
            " 37  V2_No. De Fallecidos         17658 non-null  object \n",
            " 38  V2_No. De Lesionados         17743 non-null  float64\n",
            " 39  V2_Tipo de Vehículo          42102 non-null  object \n",
            " 40  V2_Uso de Cinturón           8489 non-null   object \n",
            " 41  V3_Arresto                   1996 non-null   object \n",
            " 42  V3_Dictamen                  14 non-null     object \n",
            " 43  V3_Edad                      563 non-null    object \n",
            " 44  V3_Estatus Licencia          579 non-null    object \n",
            " 45  V3_Género                    656 non-null    object \n",
            " 46  V3_No. De Fallecidos         10538 non-null  object \n",
            " 47  V3_No. De Lesionados         10567 non-null  float64\n",
            " 48  V3_Tipo de Vehículo          3949 non-null   object \n",
            " 49  V3_Uso de Cinturón           227 non-null    object \n",
            "dtypes: float64(5), int64(1), object(44)\n",
            "memory usage: 21.0+ MB\n"
          ]
        }
      ]
    },
    {
      "cell_type": "markdown",
      "source": [
        "As this summary of the data shows, we have some columns with null values but more importantly, we have columns which provide little information taking into account the dataset size. Such is the case with V3_Dictamen among others. Depending on the model we would choose to push to develop, we could either drop these columns of fill those values with appropiate data.\n",
        "I choose not to drop any columns since I'm performing this only to check the nature of the dataset.\n",
        "\n",
        "Since it was not clarified, from this point on, I assume that any column containing Vi (with i = 1, 2, 3) refers to the number of the vehicle involved. For example, V1_Edad means the age of the vehicle 1 involved in the collision.\n",
        "\n",
        "This assumption will carry on throughout the document."
      ],
      "metadata": {
        "id": "HfhrNGPfyFbQ"
      }
    },
    {
      "cell_type": "markdown",
      "source": [
        "### Variable correlation"
      ],
      "metadata": {
        "id": "PwRMtCJtFxyM"
      }
    },
    {
      "cell_type": "code",
      "source": [
        "df.corr()"
      ],
      "metadata": {
        "colab": {
          "base_uri": "https://localhost:8080/",
          "height": 386
        },
        "id": "4xv3ftZAtTbQ",
        "outputId": "b706a669-775d-49b8-f667-dfbb6356837d"
      },
      "execution_count": 6,
      "outputs": [
        {
          "output_type": "execute_result",
          "data": {
            "text/plain": [
              "                               Column  Número  total de lesionados  \\\n",
              "Column                       1.000000                    -0.075944   \n",
              "Número  total de lesionados -0.075944                     1.000000   \n",
              "Número total de muertos     -0.006046                     0.045652   \n",
              "V1_No. De Lesionados        -0.009623                     0.805446   \n",
              "V2_No. De Lesionados        -0.064711                     0.708347   \n",
              "V3_No. De Lesionados         0.007152                     0.238495   \n",
              "\n",
              "                             Número total de muertos  V1_No. De Lesionados  \\\n",
              "Column                                     -0.006046             -0.009623   \n",
              "Número  total de lesionados                 0.045652              0.805446   \n",
              "Número total de muertos                     1.000000              0.046872   \n",
              "V1_No. De Lesionados                        0.046872              1.000000   \n",
              "V2_No. De Lesionados                        0.048762              0.171441   \n",
              "V3_No. De Lesionados                       -0.001377              0.053973   \n",
              "\n",
              "                             V2_No. De Lesionados  V3_No. De Lesionados  \n",
              "Column                                  -0.064711              0.007152  \n",
              "Número  total de lesionados              0.708347              0.238495  \n",
              "Número total de muertos                  0.048762             -0.001377  \n",
              "V1_No. De Lesionados                     0.171441              0.053973  \n",
              "V2_No. De Lesionados                     1.000000              0.043685  \n",
              "V3_No. De Lesionados                     0.043685              1.000000  "
            ],
            "text/html": [
              "\n",
              "  <div id=\"df-84ff8f24-3e0f-4063-b633-5158604487aa\">\n",
              "    <div class=\"colab-df-container\">\n",
              "      <div>\n",
              "<style scoped>\n",
              "    .dataframe tbody tr th:only-of-type {\n",
              "        vertical-align: middle;\n",
              "    }\n",
              "\n",
              "    .dataframe tbody tr th {\n",
              "        vertical-align: top;\n",
              "    }\n",
              "\n",
              "    .dataframe thead th {\n",
              "        text-align: right;\n",
              "    }\n",
              "</style>\n",
              "<table border=\"1\" class=\"dataframe\">\n",
              "  <thead>\n",
              "    <tr style=\"text-align: right;\">\n",
              "      <th></th>\n",
              "      <th>Column</th>\n",
              "      <th>Número  total de lesionados</th>\n",
              "      <th>Número total de muertos</th>\n",
              "      <th>V1_No. De Lesionados</th>\n",
              "      <th>V2_No. De Lesionados</th>\n",
              "      <th>V3_No. De Lesionados</th>\n",
              "    </tr>\n",
              "  </thead>\n",
              "  <tbody>\n",
              "    <tr>\n",
              "      <th>Column</th>\n",
              "      <td>1.000000</td>\n",
              "      <td>-0.075944</td>\n",
              "      <td>-0.006046</td>\n",
              "      <td>-0.009623</td>\n",
              "      <td>-0.064711</td>\n",
              "      <td>0.007152</td>\n",
              "    </tr>\n",
              "    <tr>\n",
              "      <th>Número  total de lesionados</th>\n",
              "      <td>-0.075944</td>\n",
              "      <td>1.000000</td>\n",
              "      <td>0.045652</td>\n",
              "      <td>0.805446</td>\n",
              "      <td>0.708347</td>\n",
              "      <td>0.238495</td>\n",
              "    </tr>\n",
              "    <tr>\n",
              "      <th>Número total de muertos</th>\n",
              "      <td>-0.006046</td>\n",
              "      <td>0.045652</td>\n",
              "      <td>1.000000</td>\n",
              "      <td>0.046872</td>\n",
              "      <td>0.048762</td>\n",
              "      <td>-0.001377</td>\n",
              "    </tr>\n",
              "    <tr>\n",
              "      <th>V1_No. De Lesionados</th>\n",
              "      <td>-0.009623</td>\n",
              "      <td>0.805446</td>\n",
              "      <td>0.046872</td>\n",
              "      <td>1.000000</td>\n",
              "      <td>0.171441</td>\n",
              "      <td>0.053973</td>\n",
              "    </tr>\n",
              "    <tr>\n",
              "      <th>V2_No. De Lesionados</th>\n",
              "      <td>-0.064711</td>\n",
              "      <td>0.708347</td>\n",
              "      <td>0.048762</td>\n",
              "      <td>0.171441</td>\n",
              "      <td>1.000000</td>\n",
              "      <td>0.043685</td>\n",
              "    </tr>\n",
              "    <tr>\n",
              "      <th>V3_No. De Lesionados</th>\n",
              "      <td>0.007152</td>\n",
              "      <td>0.238495</td>\n",
              "      <td>-0.001377</td>\n",
              "      <td>0.053973</td>\n",
              "      <td>0.043685</td>\n",
              "      <td>1.000000</td>\n",
              "    </tr>\n",
              "  </tbody>\n",
              "</table>\n",
              "</div>\n",
              "      <button class=\"colab-df-convert\" onclick=\"convertToInteractive('df-84ff8f24-3e0f-4063-b633-5158604487aa')\"\n",
              "              title=\"Convert this dataframe to an interactive table.\"\n",
              "              style=\"display:none;\">\n",
              "        \n",
              "  <svg xmlns=\"http://www.w3.org/2000/svg\" height=\"24px\"viewBox=\"0 0 24 24\"\n",
              "       width=\"24px\">\n",
              "    <path d=\"M0 0h24v24H0V0z\" fill=\"none\"/>\n",
              "    <path d=\"M18.56 5.44l.94 2.06.94-2.06 2.06-.94-2.06-.94-.94-2.06-.94 2.06-2.06.94zm-11 1L8.5 8.5l.94-2.06 2.06-.94-2.06-.94L8.5 2.5l-.94 2.06-2.06.94zm10 10l.94 2.06.94-2.06 2.06-.94-2.06-.94-.94-2.06-.94 2.06-2.06.94z\"/><path d=\"M17.41 7.96l-1.37-1.37c-.4-.4-.92-.59-1.43-.59-.52 0-1.04.2-1.43.59L10.3 9.45l-7.72 7.72c-.78.78-.78 2.05 0 2.83L4 21.41c.39.39.9.59 1.41.59.51 0 1.02-.2 1.41-.59l7.78-7.78 2.81-2.81c.8-.78.8-2.07 0-2.86zM5.41 20L4 18.59l7.72-7.72 1.47 1.35L5.41 20z\"/>\n",
              "  </svg>\n",
              "      </button>\n",
              "      \n",
              "  <style>\n",
              "    .colab-df-container {\n",
              "      display:flex;\n",
              "      flex-wrap:wrap;\n",
              "      gap: 12px;\n",
              "    }\n",
              "\n",
              "    .colab-df-convert {\n",
              "      background-color: #E8F0FE;\n",
              "      border: none;\n",
              "      border-radius: 50%;\n",
              "      cursor: pointer;\n",
              "      display: none;\n",
              "      fill: #1967D2;\n",
              "      height: 32px;\n",
              "      padding: 0 0 0 0;\n",
              "      width: 32px;\n",
              "    }\n",
              "\n",
              "    .colab-df-convert:hover {\n",
              "      background-color: #E2EBFA;\n",
              "      box-shadow: 0px 1px 2px rgba(60, 64, 67, 0.3), 0px 1px 3px 1px rgba(60, 64, 67, 0.15);\n",
              "      fill: #174EA6;\n",
              "    }\n",
              "\n",
              "    [theme=dark] .colab-df-convert {\n",
              "      background-color: #3B4455;\n",
              "      fill: #D2E3FC;\n",
              "    }\n",
              "\n",
              "    [theme=dark] .colab-df-convert:hover {\n",
              "      background-color: #434B5C;\n",
              "      box-shadow: 0px 1px 3px 1px rgba(0, 0, 0, 0.15);\n",
              "      filter: drop-shadow(0px 1px 2px rgba(0, 0, 0, 0.3));\n",
              "      fill: #FFFFFF;\n",
              "    }\n",
              "  </style>\n",
              "\n",
              "      <script>\n",
              "        const buttonEl =\n",
              "          document.querySelector('#df-84ff8f24-3e0f-4063-b633-5158604487aa button.colab-df-convert');\n",
              "        buttonEl.style.display =\n",
              "          google.colab.kernel.accessAllowed ? 'block' : 'none';\n",
              "\n",
              "        async function convertToInteractive(key) {\n",
              "          const element = document.querySelector('#df-84ff8f24-3e0f-4063-b633-5158604487aa');\n",
              "          const dataTable =\n",
              "            await google.colab.kernel.invokeFunction('convertToInteractive',\n",
              "                                                     [key], {});\n",
              "          if (!dataTable) return;\n",
              "\n",
              "          const docLinkHtml = 'Like what you see? Visit the ' +\n",
              "            '<a target=\"_blank\" href=https://colab.research.google.com/notebooks/data_table.ipynb>data table notebook</a>'\n",
              "            + ' to learn more about interactive tables.';\n",
              "          element.innerHTML = '';\n",
              "          dataTable['output_type'] = 'display_data';\n",
              "          await google.colab.output.renderOutput(dataTable, element);\n",
              "          const docLink = document.createElement('div');\n",
              "          docLink.innerHTML = docLinkHtml;\n",
              "          element.appendChild(docLink);\n",
              "        }\n",
              "      </script>\n",
              "    </div>\n",
              "  </div>\n",
              "  "
            ]
          },
          "metadata": {},
          "execution_count": 6
        }
      ]
    },
    {
      "cell_type": "markdown",
      "source": [
        "As we can see in the correlation matrix , there's a strong correlation between the total number of people injured and the number of people injured in vehicle 1 and vehicle 2 (0.8 and 0.7 respectively).\n",
        "This means that if we were to predict the total number of people injured in a collision using this dataset, we could make the predictions using the number of people injured in vehicles 1 and 2 since either variable is closely related to the total number of people injured in a collision."
      ],
      "metadata": {
        "id": "SQyjC7WaAaPe"
      }
    },
    {
      "cell_type": "markdown",
      "source": [
        "# Questions and answers"
      ],
      "metadata": {
        "id": "Ncug61sCykdC"
      }
    },
    {
      "cell_type": "markdown",
      "source": [
        "## 1. Which roads appear to be the top 10 most dangerous roads of the Monterrey Metropolitan area?"
      ],
      "metadata": {
        "id": "xe4STEDiw9Nf"
      }
    },
    {
      "cell_type": "markdown",
      "source": [
        "The criteria used to determine the dangerousness of the road was whether or not the road had an incident in which someone died or got injured. \n",
        "\n",
        "To serve this purpose, first we're going to check for any data we may need to discard or remap in order to match our categorization criteria.\n",
        "\n",
        "In this case, there were values which should be in a different category. Specifically, 1 should be remapped to 'Sí' since it means there's been an injured. Likewise, 0 should be remapped to 'No' since it means nobody was injured in the collision.\n",
        "\n",
        "Similarly, 'HUYO' and 'SE RETIRO' are remapped to 'SD'"
      ],
      "metadata": {
        "id": "0Y72laZRyCRn"
      }
    },
    {
      "cell_type": "code",
      "source": [
        "#Check which are the values of the column\n",
        "df['Muertos'].value_counts()"
      ],
      "metadata": {
        "colab": {
          "base_uri": "https://localhost:8080/"
        },
        "id": "Vr73cK2DCW3x",
        "outputId": "c494296a-ec97-4628-a3d3-537eecfe0b99"
      },
      "execution_count": 7,
      "outputs": [
        {
          "output_type": "execute_result",
          "data": {
            "text/plain": [
              "No           19943\n",
              "0             2020\n",
              "Sí             362\n",
              "SD              43\n",
              "1                6\n",
              "HUYO             3\n",
              "SE RETIRO        2\n",
              "Name: Muertos, dtype: int64"
            ]
          },
          "metadata": {},
          "execution_count": 7
        }
      ]
    },
    {
      "cell_type": "code",
      "source": [
        "#We replace the values which don't comply with the categorization we're performing\n",
        "df['Muertos'].replace(['HUYO', 'SE RETIRO'], 'SD', inplace=True)\n",
        "df['Muertos'].replace(['0', '1'], 'Sí', inplace=True)\n",
        "df['Muertos'].value_counts()"
      ],
      "metadata": {
        "colab": {
          "base_uri": "https://localhost:8080/"
        },
        "id": "6tpDJugcAb_g",
        "outputId": "f6d82ccc-d3ab-4a60-df58-ebf83ed47dbe"
      },
      "execution_count": 8,
      "outputs": [
        {
          "output_type": "execute_result",
          "data": {
            "text/plain": [
              "No    19943\n",
              "Sí     2388\n",
              "SD       48\n",
              "Name: Muertos, dtype: int64"
            ]
          },
          "metadata": {},
          "execution_count": 8
        }
      ]
    },
    {
      "cell_type": "code",
      "source": [
        "#We apply the same logic here\n",
        "df['Lesionados'].value_counts()"
      ],
      "metadata": {
        "colab": {
          "base_uri": "https://localhost:8080/"
        },
        "id": "m33WzpeOHylg",
        "outputId": "449f7b40-1d78-48ad-c712-2254fa4b3ab0"
      },
      "execution_count": 9,
      "outputs": [
        {
          "output_type": "execute_result",
          "data": {
            "text/plain": [
              "No    24059\n",
              "0      1985\n",
              "SD      946\n",
              "Sí      865\n",
              "1        62\n",
              "2        10\n",
              "3         6\n",
              "4         1\n",
              "5         1\n",
              "Name: Lesionados, dtype: int64"
            ]
          },
          "metadata": {},
          "execution_count": 9
        }
      ]
    },
    {
      "cell_type": "code",
      "source": [
        "#Replacing values\n",
        "df['Lesionados'].replace(['1', '2', '3', '4', '5'], 'Sí', inplace=True)\n",
        "df['Lesionados'].replace('0', 'No', inplace=True)\n",
        "df['Lesionados'].value_counts()"
      ],
      "metadata": {
        "colab": {
          "base_uri": "https://localhost:8080/"
        },
        "id": "GcG1i9VlIDxf",
        "outputId": "c8644090-3def-4d38-e4a1-d5beba89d9a3"
      },
      "execution_count": 10,
      "outputs": [
        {
          "output_type": "execute_result",
          "data": {
            "text/plain": [
              "No    26044\n",
              "SD      946\n",
              "Sí      945\n",
              "Name: Lesionados, dtype: int64"
            ]
          },
          "metadata": {},
          "execution_count": 10
        }
      ]
    },
    {
      "cell_type": "code",
      "source": [
        "#We use loc to locate the streets where there have been deaths and we rank them \n",
        "#using value_counts()\n",
        "road_list = df.loc[(df['Muertos'] == 'Sí') | (df['Lesionados'] == 'Sí'), 'Calle']\n",
        "ranking = road_list.value_counts()\n",
        "#We print the top 10 most dangerous roads\n",
        "print(ranking[0:10])"
      ],
      "metadata": {
        "colab": {
          "base_uri": "https://localhost:8080/"
        },
        "id": "spwRzDEsr3G2",
        "outputId": "accfe45f-854d-4d5b-b8c5-023bdc119825"
      },
      "execution_count": 11,
      "outputs": [
        {
          "output_type": "stream",
          "name": "stdout",
          "text": [
            "JOSE VASCONCELOS     252\n",
            "MORONES PRIETO       182\n",
            "LAZARO CARDENAS      176\n",
            "ALFONSO REYES        122\n",
            "GOMEZ MORIN          106\n",
            "CALZADA DEL VALLE     85\n",
            "CALZADA SAN PEDRO     69\n",
            "DIAZ ORDAZ            68\n",
            "CORREGIDORA           52\n",
            "HUMBERTO LOBO         36\n",
            "Name: Calle, dtype: int64\n"
          ]
        }
      ]
    },
    {
      "cell_type": "markdown",
      "source": [
        "## 2. What's the age group with the overall highest number of reported collisions? You can consider any age groupings for the purposes of this question. Explain this in a graphical way."
      ],
      "metadata": {
        "id": "FWb6l1HTzjj8"
      }
    },
    {
      "cell_type": "markdown",
      "source": [
        "To answer this question, I decided to take into account only the ages of the people in the vehicle 1 since it was the column with the most data in it.\n",
        "First, we're gonna check for inconsistent data within the column and keep only the relevant content."
      ],
      "metadata": {
        "id": "frTNFEMHE3BQ"
      }
    },
    {
      "cell_type": "code",
      "source": [
        "df['V1_Edad'].value_counts()"
      ],
      "metadata": {
        "colab": {
          "base_uri": "https://localhost:8080/"
        },
        "id": "-MRLXDWsFtJc",
        "outputId": "cebbba04-2a01-446f-c92f-b1503e8a2619"
      },
      "execution_count": 12,
      "outputs": [
        {
          "output_type": "execute_result",
          "data": {
            "text/plain": [
              "SD                     3218\n",
              "30                     1525\n",
              "27                     1494\n",
              "25                     1488\n",
              "26                     1482\n",
              "34                     1468\n",
              "24                     1464\n",
              "28                     1463\n",
              "23                     1424\n",
              "32                     1353\n",
              "29                     1343\n",
              "31                     1284\n",
              "36                     1253\n",
              "33                     1253\n",
              "22                     1241\n",
              "35                     1222\n",
              "42                     1138\n",
              "37                     1131\n",
              "21                     1119\n",
              "40                     1102\n",
              "39                     1100\n",
              "38                     1079\n",
              "20                     1072\n",
              "43                     1044\n",
              "45                     1042\n",
              "41                     1011\n",
              "Otro                    930\n",
              "46                      855\n",
              "44                      854\n",
              "19                      789\n",
              "47                      767\n",
              "48                      730\n",
              "50                      701\n",
              "18                      673\n",
              "49                      665\n",
              "53                      591\n",
              "52                      565\n",
              "51                      551\n",
              "54                      512\n",
              "56                      500\n",
              "55                      469\n",
              "58                      436\n",
              "0                       415\n",
              "57                      397\n",
              "NP                      374\n",
              "59                      368\n",
              "60                      320\n",
              "S/D                     312\n",
              "62                      283\n",
              "61                      278\n",
              "17                      273\n",
              "HUYO                    269\n",
              "63                      223\n",
              "65                      212\n",
              "64                      202\n",
              "66                      184\n",
              "67                      155\n",
              "16                      147\n",
              "68                      141\n",
              "70                      138\n",
              "69                      126\n",
              "71                       96\n",
              "74                       89\n",
              "no proporciona           86\n",
              "72                       86\n",
              "73                       81\n",
              "75                       68\n",
              "76                       50\n",
              "77                       46\n",
              "15                       40\n",
              "78                       40\n",
              "79                       30\n",
              "80                       27\n",
              "81                       25\n",
              "82                       19\n",
              "83                       17\n",
              "85                       15\n",
              "84                       15\n",
              "1900-02-03 00:00:00      14\n",
              "1900-02-01 00:00:00      12\n",
              "1900-01-29 00:00:00      11\n",
              "1900-02-13 00:00:00      11\n",
              "1900-02-02 00:00:00      10\n",
              "1900-02-09 00:00:00      10\n",
              "1900-01-26 00:00:00       9\n",
              "1900-01-25 00:00:00       9\n",
              "N/R                       9\n",
              "1900-01-31 00:00:00       9\n",
              "1900-02-08 00:00:00       8\n",
              "1900-02-15 00:00:00       8\n",
              "1900-01-28 00:00:00       8\n",
              "1900-01-30 00:00:00       8\n",
              "1900-02-10 00:00:00       7\n",
              "1900-02-07 00:00:00       7\n",
              "1900-01-20 00:00:00       7\n",
              "1900-02-12 00:00:00       7\n",
              "1900-02-05 00:00:00       7\n",
              "1900-01-27 00:00:00       6\n",
              "1900-02-04 00:00:00       6\n",
              "1900-01-21 00:00:00       6\n",
              "1900-02-11 00:00:00       6\n",
              "1900-01-23 00:00:00       6\n",
              "1900-02-16 00:00:00       6\n",
              "86                        6\n",
              "14                        6\n",
              "S/                        6\n",
              "88                        6\n",
              "1900-01-24 00:00:00       5\n",
              "NO                        5\n",
              "1900-02-19 00:00:00       5\n",
              "1900-01-22 00:00:00       5\n",
              "1900-02-17 00:00:00       4\n",
              "1900-02-18 00:00:00       4\n",
              "1900-02-06 00:00:00       4\n",
              "87                        4\n",
              "1900-02-14 00:00:00       3\n",
              "1900-02-22 00:00:00       3\n",
              "12                        3\n",
              "1900-02-24 00:00:00       2\n",
              "1900-03-02 00:00:00       2\n",
              "1900-01-18 00:00:00       2\n",
              "sd                        2\n",
              "13                        2\n",
              "1900-02-28 00:00:00       2\n",
              "11                        1\n",
              "1900-03-05 00:00:00       1\n",
              "Np                        1\n",
              "se retiró                 1\n",
              "1900-02-23 00:00:00       1\n",
              "9                         1\n",
              "7                         1\n",
              "354                       1\n",
              "96                        1\n",
              "89                        1\n",
              "90                        1\n",
              "242                       1\n",
              "6                         1\n",
              " HUYO                     1\n",
              "SIN CONDUCTOR             1\n",
              "1900-01-17 00:00:00       1\n",
              "SI                        1\n",
              "1900-02-20 00:00:00       1\n",
              "1900-02-26 00:00:00       1\n",
              "1900-02-27 00:00:00       1\n",
              "1900-02-25 00:00:00       1\n",
              "1900-01-19 00:00:00       1\n",
              "94                        1\n",
              "NO VISIBLE                1\n",
              "1900-03-03 00:00:00       1\n",
              "HUYE DEL  LUGAR           1\n",
              "N/L                       1\n",
              "MP                        1\n",
              "42|                       1\n",
              "ESTACIONADO               1\n",
              " SD                       1\n",
              "Name: V1_Edad, dtype: int64"
            ]
          },
          "metadata": {},
          "execution_count": 12
        }
      ]
    },
    {
      "cell_type": "markdown",
      "source": [
        "As can be seen, there are many rows with the wrong data format. In order not to alter the result of question 3, we're going to create a new dataframe, filter the wrong formatted data and show the result in a bar plot."
      ],
      "metadata": {
        "id": "stvPdUBHF21h"
      }
    },
    {
      "cell_type": "code",
      "source": [
        "#Create new dataframe using the original\n",
        "df2 = df\n",
        "#Change the cell format to numeric. We use errors='coerce' to set any invalid parsing as NaN\n",
        "df2['V1_Edad'] = pd.to_numeric(df2['V1_Edad'], errors='coerce')\n",
        "#Replace NaN values with 0\n",
        "df2 = df2.replace(np.nan, 0, regex=True)\n",
        "#Change the dtype of the column to int\n",
        "df2['V1_Edad'] = df2['V1_Edad'].astype(int)\n",
        "#Filter the content of the column. We keep only the ages between 18 and 99\n",
        "df2 = df2.loc[(df2['V1_Edad'] > 18) & (df2['V1_Edad'] < 99)]\n",
        "#We create a new data frame in which we're going to group by age\n",
        "df_ages = df2.join(pd.get_dummies(pd.cut(df['V1_Edad'], bins=(0, 30, 50, 70, 90, 100), \n",
        "                                         labels=['Under 30','31_to_50','51_to_70','71_to_90','Over 90'])))\n",
        "#We create a list for each of the age group. This can be done more efficiently\n",
        "#But for illustration purposes, I consider it to be enough\n",
        "under_30 = df_ages['Under 30'].value_counts().values.tolist()\n",
        "over_30to50 = df_ages['31_to_50'].value_counts().values.tolist()\n",
        "over_51to70 = df_ages['51_to_70'].value_counts().values.tolist()\n",
        "over_71to90 = df_ages['71_to_90'].value_counts().values.tolist()\n",
        "over_90 = df_ages['Over 90'].value_counts().values.tolist()\n",
        "#Create numpy arrays for the crashes count and the age group\n",
        "crashes_array = np.array([under_30[1], over_30to50[1], over_51to70[1], over_71to90[1], over_90[1]])\n",
        "age_group = np.array(['Under 30', '31 to 50', '51 to 70', '71 to 90', 'Over 90'])\n",
        "#Print the array for illustration purposes\n",
        "print(f\"Collisions array: {crashes_array}\\n\")\n",
        "#Plot\n",
        "plt.title('Accidents by vehicle 1 age group', fontsize=20)\n",
        "plt.xlabel('Age group')\n",
        "plt.ylabel('Collision count')\n",
        "plt.bar(age_group, crashes_array)\n",
        "plt.show()\n"
      ],
      "metadata": {
        "colab": {
          "base_uri": "https://localhost:8080/",
          "height": 335
        },
        "id": "oigJzH5YjHzX",
        "outputId": "5e1d9060-c49c-4b96-f2ce-8373dd790a57"
      },
      "execution_count": 13,
      "outputs": [
        {
          "output_type": "stream",
          "name": "stdout",
          "text": [
            "Collisions array: [15904 21052  6651   722     2]\n",
            "\n"
          ]
        },
        {
          "output_type": "display_data",
          "data": {
            "text/plain": [
              "<Figure size 432x288 with 1 Axes>"
            ],
            "image/png": "[encoded data removed]"
          },
          "metadata": {
            "needs_background": "light"
          }
        }
      ]
    },
    {
      "cell_type": "markdown",
      "source": [
        "With the considerations taken, we can see that the age group with the highest number of reported collisions is the one between ages 31 and 50.\n",
        "It's worth noting that the age group over 90 doesn't show in the plot because of the scalling of the y axis. Also, there are very few over 90 years old drivers on the dataset."
      ],
      "metadata": {
        "id": "8tRCFKSvHxv2"
      }
    },
    {
      "cell_type": "markdown",
      "source": [
        "## 3. If you were to see a collision in the \"Garza Sada\" road, What would be the odds for that person to have any type of positive alcohol ingestion opinion?"
      ],
      "metadata": {
        "id": "V9l1XQsY0RyC"
      }
    },
    {
      "cell_type": "code",
      "source": [
        "#Check the values of the column\n",
        "df['Por alcohol'].value_counts()"
      ],
      "metadata": {
        "colab": {
          "base_uri": "https://localhost:8080/"
        },
        "id": "3AUY65Tp6Cv3",
        "outputId": "d01379f8-8a82-4e73-d6c0-61f2cfae911f"
      },
      "execution_count": 14,
      "outputs": [
        {
          "output_type": "execute_result",
          "data": {
            "text/plain": [
              "No                    12432\n",
              "Ninguno                3254\n",
              "Sí                     1797\n",
              "SD                     1342\n",
              "No ebrio                369\n",
              "Ebrio completo           52\n",
              "Ebrio incompleto         10\n",
              "HUYO                      9\n",
              "Aliento alcohólico        5\n",
              "Efectos de droga          1\n",
              "Name: Por alcohol, dtype: int64"
            ]
          },
          "metadata": {},
          "execution_count": 14
        }
      ]
    },
    {
      "cell_type": "code",
      "source": [
        "#Get the number of crashes for Garza Sada on the dataset\n",
        "garza_sada_count = len(df[df['Calle'] == 'GARZA SADA'])\n",
        "print(garza_sada_count)"
      ],
      "metadata": {
        "colab": {
          "base_uri": "https://localhost:8080/"
        },
        "id": "uN7vIGBG-7OT",
        "outputId": "2b3bd063-6383-4422-c2d2-ce9b884f2920"
      },
      "execution_count": 15,
      "outputs": [
        {
          "output_type": "stream",
          "name": "stdout",
          "text": [
            "1215\n"
          ]
        }
      ]
    },
    {
      "cell_type": "code",
      "source": [
        "#List to match the requirements\n",
        "alcohol_list = df.loc[(df['Por alcohol'] == 'Sí') | (df['Por alcohol'] == 'Ebrio completo') \n",
        "                    | (df['Por alcohol'] == 'Ebrio incompleto') | \n",
        "                    (df['Por alcohol'] == 'Aliento alcohólico'),\n",
        "                    'Calle'] \n",
        "#Rank values                   \n",
        "ranking = alcohol_list.value_counts()\n",
        "print(ranking[0:10])\n",
        "#Get the value of the road requested\n",
        "garza_sada_alcohol_collisions = ranking[1].sum()\n",
        "#Percentage\n",
        "collision_pct = (garza_sada_alcohol_collisions / garza_sada_count) * 100\n",
        "print(f\"Total number of crashes involving alcohol ingestion: {collision_pct} %\")"
      ],
      "metadata": {
        "colab": {
          "base_uri": "https://localhost:8080/"
        },
        "id": "11FtjJop9d4a",
        "outputId": "db4d3b85-e314-4829-e8a7-a04400dba80a"
      },
      "execution_count": 16,
      "outputs": [
        {
          "output_type": "stream",
          "name": "stdout",
          "text": [
            "AV. LINCOLN           424\n",
            "GARZA SADA             82\n",
            "MORONES PRIETO         70\n",
            "GONZALITOS             69\n",
            "REVOLUCION             44\n",
            "CONSTITUCION           41\n",
            "LAZARO CARDENAS        41\n",
            "CARRETERA A GARCIA     38\n",
            "LINCOLN                37\n",
            "MADERO                 36\n",
            "Name: Calle, dtype: int64\n",
            "Total number of crashes involving alcohol ingestion: 6.748971193415638 %\n"
          ]
        }
      ]
    },
    {
      "cell_type": "markdown",
      "source": [
        "## 4. Why do you think we use the phrase \"appear to be\"in question 1? What would you need to be able to speak with more confidence about the answer to that question?"
      ],
      "metadata": {
        "id": "6hHQ-Cz60WWv"
      }
    },
    {
      "cell_type": "markdown",
      "source": [
        "Because there's not conclusive information to make such affirmation.\n",
        "The criteria chosen was to deem the road dangerous based on whether or not there had been people dead or injured in the accident. \n",
        "There's not any data about the traffic volume of any of the roads, for example. Any of the accidents on any road could've happened on a road much less congested than any other on the dataset. So, to label a road as dangerous without taking into account the traffic volume of it is, in my opinion, not a strong enough argument to do so. \n",
        "\n",
        "Another thing that could happen is that the dataset could be biased. In such case, the results of the analysis would be biased as well and the conclusions based on it wouldn't be the right ones.\n",
        "\n",
        "In conclusion, there's not enough information to properly label a road as dangerous with the dataset given."
      ],
      "metadata": {
        "id": "bNWfCPKNRCVb"
      }
    },
    {
      "cell_type": "markdown",
      "source": [
        "## 5. What modeling project would you push to develop from the conclusions in this dataset?\""
      ],
      "metadata": {
        "id": "ToaQwNvR0aE-"
      }
    },
    {
      "cell_type": "markdown",
      "source": [
        "The possibilities are many but I'll list two options:\n",
        "\n",
        "*   We could build a predictive model that, given the probability of accident for each intersection on a given date, predicts the probability of death or injury. This would prove particularly useful to any city's DMV to prevent colissions as well as efficiently direct their resources and, in extreme cases, work together with emergency services.\n",
        "*   Another model could be the collision ocurrence rate given the state of the road and/or the weather condition. This would prove useful to the city hall to efficiently manage the budget approved while keeping citizens safe and pleased.\n"
      ],
      "metadata": {
        "id": "PPRWNqcW0dzd"
      }
    }
  ]
}